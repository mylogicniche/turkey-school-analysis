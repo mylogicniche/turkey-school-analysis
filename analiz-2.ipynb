{
 "cells": [
  {
   "cell_type": "code",
   "execution_count": 317,
   "metadata": {
    "collapsed": false
   },
   "outputs": [],
   "source": [
    "import pandas as pd\n",
    "import numpy as np\n",
    "import seaborn as sns\n",
    "import matplotlib.pyplot as plt\n",
    "%matplotlib inline"
   ]
  },
  {
   "cell_type": "code",
   "execution_count": 318,
   "metadata": {
    "collapsed": true
   },
   "outputs": [],
   "source": [
    "df = pd.read_csv(\"schools.csv\", encoding='utf-8')"
   ]
  },
  {
   "cell_type": "code",
   "execution_count": 319,
   "metadata": {
    "collapsed": false
   },
   "outputs": [
    {
     "data": {
      "text/html": [
       "<div>\n",
       "<style>\n",
       "    .dataframe thead tr:only-child th {\n",
       "        text-align: right;\n",
       "    }\n",
       "\n",
       "    .dataframe thead th {\n",
       "        text-align: left;\n",
       "    }\n",
       "\n",
       "    .dataframe tbody tr th {\n",
       "        vertical-align: top;\n",
       "    }\n",
       "</style>\n",
       "<table border=\"1\" class=\"dataframe\">\n",
       "  <thead>\n",
       "    <tr style=\"text-align: right;\">\n",
       "      <th></th>\n",
       "      <th>Unnamed: 0</th>\n",
       "      <th>Atölye-İşlik</th>\n",
       "      <th>BTSınıfı</th>\n",
       "      <th>Bahçe</th>\n",
       "      <th>Bağlantı</th>\n",
       "      <th>BilimselEtkinlikler</th>\n",
       "      <th>DersBaşlamaveBitiş</th>\n",
       "      <th>Derslik</th>\n",
       "      <th>FenLabaratuarı</th>\n",
       "      <th>FenLaboratuarı</th>\n",
       "      <th>...</th>\n",
       "      <th>Yemekhane</th>\n",
       "      <th>YurtdışıProjeFaaliyetleri</th>\n",
       "      <th>adres</th>\n",
       "      <th>isim</th>\n",
       "      <th>semt</th>\n",
       "      <th>Öğrenci</th>\n",
       "      <th>ÖğretimŞekli</th>\n",
       "      <th>Öğretmen</th>\n",
       "      <th>İlveİlçeMerkezineUzaklık</th>\n",
       "      <th>url</th>\n",
       "    </tr>\n",
       "  </thead>\n",
       "  <tbody>\n",
       "    <tr>\n",
       "      <th>0</th>\n",
       "      <td>NaN</td>\n",
       "      <td>0</td>\n",
       "      <td>0</td>\n",
       "      <td>0</td>\n",
       "      <td>NaN</td>\n",
       "      <td>NaN</td>\n",
       "      <td>NaN</td>\n",
       "      <td>16</td>\n",
       "      <td>1</td>\n",
       "      <td>NaN</td>\n",
       "      <td>...</td>\n",
       "      <td>0</td>\n",
       "      <td>NaN</td>\n",
       "      <td>NaN</td>\n",
       "      <td>-100 yıl ali rıza efendi ortaokulu</td>\n",
       "      <td>KARTAL</td>\n",
       "      <td>320.0</td>\n",
       "      <td>Normal</td>\n",
       "      <td>26.0</td>\n",
       "      <td>NaN</td>\n",
       "      <td>http://100yilareortaokulu.meb.k12.tr/meb_iys_d...</td>\n",
       "    </tr>\n",
       "    <tr>\n",
       "      <th>1</th>\n",
       "      <td>NaN</td>\n",
       "      <td>8</td>\n",
       "      <td>0</td>\n",
       "      <td>1</td>\n",
       "      <td>NaN</td>\n",
       "      <td>NaN</td>\n",
       "      <td>NaN</td>\n",
       "      <td>47</td>\n",
       "      <td>1</td>\n",
       "      <td>NaN</td>\n",
       "      <td>...</td>\n",
       "      <td>0</td>\n",
       "      <td>NaN</td>\n",
       "      <td>Telsiz Mah. Balıklı Kazlıçeşme Yolu No33 Zeyti...</td>\n",
       "      <td>-100. yıl mesleki ve teknik anadolu lisesi</td>\n",
       "      <td>ZEYTİNBURNU</td>\n",
       "      <td>1758.0</td>\n",
       "      <td>Tekli</td>\n",
       "      <td>95.0</td>\n",
       "      <td>NaN</td>\n",
       "      <td>http://100yilmtal.meb.k12.tr/meb_iys_dosyalar/...</td>\n",
       "    </tr>\n",
       "    <tr>\n",
       "      <th>2</th>\n",
       "      <td>NaN</td>\n",
       "      <td>0</td>\n",
       "      <td>0</td>\n",
       "      <td>1</td>\n",
       "      <td>NaN</td>\n",
       "      <td>NaN</td>\n",
       "      <td>NaN</td>\n",
       "      <td>16</td>\n",
       "      <td>0</td>\n",
       "      <td>NaN</td>\n",
       "      <td>...</td>\n",
       "      <td>1</td>\n",
       "      <td>NaN</td>\n",
       "      <td>Balmumcu Mah. Gazi Umur Paşa Sk. No 40 Beşikta...</td>\n",
       "      <td>-100 yıl mustafa kemal i̇lkokulu</td>\n",
       "      <td>BEŞİKTAŞ</td>\n",
       "      <td>436.0</td>\n",
       "      <td>OkulumuzdaTekli(Normal)eğitimuygulanmaktadır.</td>\n",
       "      <td>21.0</td>\n",
       "      <td>NaN</td>\n",
       "      <td>http://100yilmustafakemalilkokulu.meb.k12.tr/m...</td>\n",
       "    </tr>\n",
       "    <tr>\n",
       "      <th>3</th>\n",
       "      <td>NaN</td>\n",
       "      <td>0</td>\n",
       "      <td>1</td>\n",
       "      <td>1</td>\n",
       "      <td>NaN</td>\n",
       "      <td>NaN</td>\n",
       "      <td>NaN</td>\n",
       "      <td>16</td>\n",
       "      <td>1</td>\n",
       "      <td>NaN</td>\n",
       "      <td>...</td>\n",
       "      <td>1</td>\n",
       "      <td>NaN</td>\n",
       "      <td>NaN</td>\n",
       "      <td>-23 nisan zehra hanım i̇mam hatip ortaokulu</td>\n",
       "      <td>KADIKÖY</td>\n",
       "      <td>437.0</td>\n",
       "      <td>TEKLİ</td>\n",
       "      <td>27.0</td>\n",
       "      <td>NaN</td>\n",
       "      <td>http://23nisan-zehrahanim.meb.k12.tr/meb_iys_d...</td>\n",
       "    </tr>\n",
       "    <tr>\n",
       "      <th>4</th>\n",
       "      <td>NaN</td>\n",
       "      <td>0</td>\n",
       "      <td>0</td>\n",
       "      <td>0</td>\n",
       "      <td>ADSL(1Mbit)</td>\n",
       "      <td>NaN</td>\n",
       "      <td>07:10-18:00</td>\n",
       "      <td>20</td>\n",
       "      <td>NaN</td>\n",
       "      <td>0</td>\n",
       "      <td>...</td>\n",
       "      <td>0</td>\n",
       "      <td>NaN</td>\n",
       "      <td>NaN</td>\n",
       "      <td>-23 nisan kaptanoğlu i̇lkokulu</td>\n",
       "      <td>ÜMRANİYE</td>\n",
       "      <td>1600.0</td>\n",
       "      <td>İKİLİEĞİTİM</td>\n",
       "      <td>46.0</td>\n",
       "      <td>3km</td>\n",
       "      <td>http://23nisankaptanoglu.meb.k12.tr/meb_iys_do...</td>\n",
       "    </tr>\n",
       "  </tbody>\n",
       "</table>\n",
       "<p>5 rows × 41 columns</p>\n",
       "</div>"
      ],
      "text/plain": [
       "  Unnamed: 0 Atölye-İşlik BTSınıfı Bahçe     Bağlantı BilimselEtkinlikler  \\\n",
       "0        NaN            0        0     0          NaN                 NaN   \n",
       "1        NaN            8        0     1          NaN                 NaN   \n",
       "2        NaN            0        0     1          NaN                 NaN   \n",
       "3        NaN            0        1     1          NaN                 NaN   \n",
       "4        NaN            0        0     0  ADSL(1Mbit)                 NaN   \n",
       "\n",
       "  DersBaşlamaveBitiş Derslik FenLabaratuarı FenLaboratuarı  \\\n",
       "0                NaN      16              1            NaN   \n",
       "1                NaN      47              1            NaN   \n",
       "2                NaN      16              0            NaN   \n",
       "3                NaN      16              1            NaN   \n",
       "4        07:10-18:00      20            NaN              0   \n",
       "\n",
       "                         ...                         Yemekhane  \\\n",
       "0                        ...                                 0   \n",
       "1                        ...                                 0   \n",
       "2                        ...                                 1   \n",
       "3                        ...                                 1   \n",
       "4                        ...                                 0   \n",
       "\n",
       "  YurtdışıProjeFaaliyetleri  \\\n",
       "0                       NaN   \n",
       "1                       NaN   \n",
       "2                       NaN   \n",
       "3                       NaN   \n",
       "4                       NaN   \n",
       "\n",
       "                                               adres  \\\n",
       "0                                                NaN   \n",
       "1  Telsiz Mah. Balıklı Kazlıçeşme Yolu No33 Zeyti...   \n",
       "2  Balmumcu Mah. Gazi Umur Paşa Sk. No 40 Beşikta...   \n",
       "3                                                NaN   \n",
       "4                                                NaN   \n",
       "\n",
       "                                          isim         semt Öğrenci  \\\n",
       "0           -100 yıl ali rıza efendi ortaokulu       KARTAL   320.0   \n",
       "1   -100. yıl mesleki ve teknik anadolu lisesi  ZEYTİNBURNU  1758.0   \n",
       "2             -100 yıl mustafa kemal i̇lkokulu     BEŞİKTAŞ   436.0   \n",
       "3  -23 nisan zehra hanım i̇mam hatip ortaokulu      KADIKÖY   437.0   \n",
       "4               -23 nisan kaptanoğlu i̇lkokulu     ÜMRANİYE  1600.0   \n",
       "\n",
       "                                    ÖğretimŞekli Öğretmen  \\\n",
       "0                                         Normal     26.0   \n",
       "1                                          Tekli     95.0   \n",
       "2  OkulumuzdaTekli(Normal)eğitimuygulanmaktadır.     21.0   \n",
       "3                                          TEKLİ     27.0   \n",
       "4                                    İKİLİEĞİTİM     46.0   \n",
       "\n",
       "  İlveİlçeMerkezineUzaklık                                                url  \n",
       "0                      NaN  http://100yilareortaokulu.meb.k12.tr/meb_iys_d...  \n",
       "1                      NaN  http://100yilmtal.meb.k12.tr/meb_iys_dosyalar/...  \n",
       "2                      NaN  http://100yilmustafakemalilkokulu.meb.k12.tr/m...  \n",
       "3                      NaN  http://23nisan-zehrahanim.meb.k12.tr/meb_iys_d...  \n",
       "4                      3km  http://23nisankaptanoglu.meb.k12.tr/meb_iys_do...  \n",
       "\n",
       "[5 rows x 41 columns]"
      ]
     },
     "execution_count": 319,
     "metadata": {},
     "output_type": "execute_result"
    }
   ],
   "source": [
    "df.head()"
   ]
  },
  {
   "cell_type": "code",
   "execution_count": 320,
   "metadata": {
    "collapsed": false
   },
   "outputs": [
    {
     "name": "stdout",
     "output_type": "stream",
     "text": [
      "<class 'pandas.core.frame.DataFrame'>\n",
      "RangeIndex: 2360 entries, 0 to 2359\n",
      "Data columns (total 41 columns):\n",
      "Unnamed: 0                   4 non-null object\n",
      "Atölye-İşlik                 2334 non-null object\n",
      "BTSınıfı                     2182 non-null object\n",
      "Bahçe                        2303 non-null object\n",
      "Bağlantı                     469 non-null object\n",
      "BilimselEtkinlikler          129 non-null object\n",
      "DersBaşlamaveBitiş           435 non-null object\n",
      "Derslik                      2183 non-null object\n",
      "FenLabaratuarı               1823 non-null object\n",
      "FenLaboratuarı               368 non-null object\n",
      "HazırlıkSınıfı               2101 non-null object\n",
      "IsınmaŞekli                  344 non-null object\n",
      "Kantin                       2186 non-null object\n",
      "KonferansSalonu              2148 non-null object\n",
      "KontenjanBilgileri           16 non-null object\n",
      "Kütüphane                    2082 non-null object\n",
      "LojmanBilgisi                79 non-null object\n",
      "LojmanSayısı                 329 non-null object\n",
      "Misafirhane                  2144 non-null object\n",
      "MüzikSınıfı                  1388 non-null float64\n",
      "OkulunYGS/LYSBaşarıDurumu    16 non-null object\n",
      "PansiyonBilgisi              124 non-null object\n",
      "ProjeÇalışmaları             22 non-null object\n",
      "RehberÖğretmen               1279 non-null object\n",
      "ResimSınıfı                  1304 non-null object\n",
      "Revir                        2172 non-null float64\n",
      "ServisBilgisi                25 non-null object\n",
      "SporSalonu                   2067 non-null float64\n",
      "SportifEtkinlikler           118 non-null object\n",
      "Taban-TavanPuanBilgileri     111 non-null object\n",
      "YABANCIDIL                   149 non-null object\n",
      "Yemekhane                    2171 non-null object\n",
      "YurtdışıProjeFaaliyetleri    105 non-null object\n",
      "adres                        1395 non-null object\n",
      "isim                         2179 non-null object\n",
      "semt                         2089 non-null object\n",
      "Öğrenci                      2066 non-null float64\n",
      "ÖğretimŞekli                 1944 non-null object\n",
      "Öğretmen                     2060 non-null float64\n",
      "İlveİlçeMerkezineUzaklık     239 non-null object\n",
      "url                          2067 non-null object\n",
      "dtypes: float64(5), object(36)\n",
      "memory usage: 756.0+ KB\n"
     ]
    }
   ],
   "source": [
    "df.info()"
   ]
  },
  {
   "cell_type": "code",
   "execution_count": 321,
   "metadata": {
    "collapsed": false
   },
   "outputs": [],
   "source": [
    "df_new = df.dropna(axis=1, thresh=1000)"
   ]
  },
  {
   "cell_type": "code",
   "execution_count": 322,
   "metadata": {
    "collapsed": false
   },
   "outputs": [
    {
     "name": "stdout",
     "output_type": "stream",
     "text": [
      "<class 'pandas.core.frame.DataFrame'>\n",
      "RangeIndex: 2360 entries, 0 to 2359\n",
      "Data columns (total 23 columns):\n",
      "Atölye-İşlik       2334 non-null object\n",
      "BTSınıfı           2182 non-null object\n",
      "Bahçe              2303 non-null object\n",
      "Derslik            2183 non-null object\n",
      "FenLabaratuarı     1823 non-null object\n",
      "HazırlıkSınıfı     2101 non-null object\n",
      "Kantin             2186 non-null object\n",
      "KonferansSalonu    2148 non-null object\n",
      "Kütüphane          2082 non-null object\n",
      "Misafirhane        2144 non-null object\n",
      "MüzikSınıfı        1388 non-null float64\n",
      "RehberÖğretmen     1279 non-null object\n",
      "ResimSınıfı        1304 non-null object\n",
      "Revir              2172 non-null float64\n",
      "SporSalonu         2067 non-null float64\n",
      "Yemekhane          2171 non-null object\n",
      "adres              1395 non-null object\n",
      "isim               2179 non-null object\n",
      "semt               2089 non-null object\n",
      "Öğrenci            2066 non-null float64\n",
      "ÖğretimŞekli       1944 non-null object\n",
      "Öğretmen           2060 non-null float64\n",
      "url                2067 non-null object\n",
      "dtypes: float64(5), object(18)\n",
      "memory usage: 424.1+ KB\n"
     ]
    }
   ],
   "source": [
    "df_new.info()"
   ]
  },
  {
   "cell_type": "code",
   "execution_count": 323,
   "metadata": {
    "collapsed": false
   },
   "outputs": [
    {
     "data": {
      "text/html": [
       "<div>\n",
       "<style>\n",
       "    .dataframe thead tr:only-child th {\n",
       "        text-align: right;\n",
       "    }\n",
       "\n",
       "    .dataframe thead th {\n",
       "        text-align: left;\n",
       "    }\n",
       "\n",
       "    .dataframe tbody tr th {\n",
       "        vertical-align: top;\n",
       "    }\n",
       "</style>\n",
       "<table border=\"1\" class=\"dataframe\">\n",
       "  <thead>\n",
       "    <tr style=\"text-align: right;\">\n",
       "      <th></th>\n",
       "      <th>Unnamed: 0</th>\n",
       "      <th>Atölye-İşlik</th>\n",
       "      <th>BTSınıfı</th>\n",
       "      <th>Bahçe</th>\n",
       "      <th>Bağlantı</th>\n",
       "      <th>BilimselEtkinlikler</th>\n",
       "      <th>DersBaşlamaveBitiş</th>\n",
       "      <th>Derslik</th>\n",
       "      <th>FenLabaratuarı</th>\n",
       "      <th>FenLaboratuarı</th>\n",
       "      <th>...</th>\n",
       "      <th>Yemekhane</th>\n",
       "      <th>YurtdışıProjeFaaliyetleri</th>\n",
       "      <th>adres</th>\n",
       "      <th>isim</th>\n",
       "      <th>semt</th>\n",
       "      <th>Öğrenci</th>\n",
       "      <th>ÖğretimŞekli</th>\n",
       "      <th>Öğretmen</th>\n",
       "      <th>İlveİlçeMerkezineUzaklık</th>\n",
       "      <th>url</th>\n",
       "    </tr>\n",
       "  </thead>\n",
       "  <tbody>\n",
       "    <tr>\n",
       "      <th>0</th>\n",
       "      <td>NaN</td>\n",
       "      <td>0</td>\n",
       "      <td>0</td>\n",
       "      <td>0</td>\n",
       "      <td>NaN</td>\n",
       "      <td>NaN</td>\n",
       "      <td>NaN</td>\n",
       "      <td>16</td>\n",
       "      <td>1</td>\n",
       "      <td>NaN</td>\n",
       "      <td>...</td>\n",
       "      <td>0</td>\n",
       "      <td>NaN</td>\n",
       "      <td>NaN</td>\n",
       "      <td>-100 yıl ali rıza efendi ortaokulu</td>\n",
       "      <td>KARTAL</td>\n",
       "      <td>320.0</td>\n",
       "      <td>Normal</td>\n",
       "      <td>26.0</td>\n",
       "      <td>NaN</td>\n",
       "      <td>http://100yilareortaokulu.meb.k12.tr/meb_iys_d...</td>\n",
       "    </tr>\n",
       "    <tr>\n",
       "      <th>1</th>\n",
       "      <td>NaN</td>\n",
       "      <td>8</td>\n",
       "      <td>0</td>\n",
       "      <td>1</td>\n",
       "      <td>NaN</td>\n",
       "      <td>NaN</td>\n",
       "      <td>NaN</td>\n",
       "      <td>47</td>\n",
       "      <td>1</td>\n",
       "      <td>NaN</td>\n",
       "      <td>...</td>\n",
       "      <td>0</td>\n",
       "      <td>NaN</td>\n",
       "      <td>Telsiz Mah. Balıklı Kazlıçeşme Yolu No33 Zeyti...</td>\n",
       "      <td>-100. yıl mesleki ve teknik anadolu lisesi</td>\n",
       "      <td>ZEYTİNBURNU</td>\n",
       "      <td>1758.0</td>\n",
       "      <td>Tekli</td>\n",
       "      <td>95.0</td>\n",
       "      <td>NaN</td>\n",
       "      <td>http://100yilmtal.meb.k12.tr/meb_iys_dosyalar/...</td>\n",
       "    </tr>\n",
       "    <tr>\n",
       "      <th>2</th>\n",
       "      <td>NaN</td>\n",
       "      <td>0</td>\n",
       "      <td>0</td>\n",
       "      <td>1</td>\n",
       "      <td>NaN</td>\n",
       "      <td>NaN</td>\n",
       "      <td>NaN</td>\n",
       "      <td>16</td>\n",
       "      <td>0</td>\n",
       "      <td>NaN</td>\n",
       "      <td>...</td>\n",
       "      <td>1</td>\n",
       "      <td>NaN</td>\n",
       "      <td>Balmumcu Mah. Gazi Umur Paşa Sk. No 40 Beşikta...</td>\n",
       "      <td>-100 yıl mustafa kemal i̇lkokulu</td>\n",
       "      <td>BEŞİKTAŞ</td>\n",
       "      <td>436.0</td>\n",
       "      <td>OkulumuzdaTekli(Normal)eğitimuygulanmaktadır.</td>\n",
       "      <td>21.0</td>\n",
       "      <td>NaN</td>\n",
       "      <td>http://100yilmustafakemalilkokulu.meb.k12.tr/m...</td>\n",
       "    </tr>\n",
       "    <tr>\n",
       "      <th>3</th>\n",
       "      <td>NaN</td>\n",
       "      <td>0</td>\n",
       "      <td>1</td>\n",
       "      <td>1</td>\n",
       "      <td>NaN</td>\n",
       "      <td>NaN</td>\n",
       "      <td>NaN</td>\n",
       "      <td>16</td>\n",
       "      <td>1</td>\n",
       "      <td>NaN</td>\n",
       "      <td>...</td>\n",
       "      <td>1</td>\n",
       "      <td>NaN</td>\n",
       "      <td>NaN</td>\n",
       "      <td>-23 nisan zehra hanım i̇mam hatip ortaokulu</td>\n",
       "      <td>KADIKÖY</td>\n",
       "      <td>437.0</td>\n",
       "      <td>TEKLİ</td>\n",
       "      <td>27.0</td>\n",
       "      <td>NaN</td>\n",
       "      <td>http://23nisan-zehrahanim.meb.k12.tr/meb_iys_d...</td>\n",
       "    </tr>\n",
       "    <tr>\n",
       "      <th>4</th>\n",
       "      <td>NaN</td>\n",
       "      <td>0</td>\n",
       "      <td>0</td>\n",
       "      <td>0</td>\n",
       "      <td>ADSL(1Mbit)</td>\n",
       "      <td>NaN</td>\n",
       "      <td>07:10-18:00</td>\n",
       "      <td>20</td>\n",
       "      <td>NaN</td>\n",
       "      <td>0</td>\n",
       "      <td>...</td>\n",
       "      <td>0</td>\n",
       "      <td>NaN</td>\n",
       "      <td>NaN</td>\n",
       "      <td>-23 nisan kaptanoğlu i̇lkokulu</td>\n",
       "      <td>ÜMRANİYE</td>\n",
       "      <td>1600.0</td>\n",
       "      <td>İKİLİEĞİTİM</td>\n",
       "      <td>46.0</td>\n",
       "      <td>3km</td>\n",
       "      <td>http://23nisankaptanoglu.meb.k12.tr/meb_iys_do...</td>\n",
       "    </tr>\n",
       "  </tbody>\n",
       "</table>\n",
       "<p>5 rows × 41 columns</p>\n",
       "</div>"
      ],
      "text/plain": [
       "  Unnamed: 0 Atölye-İşlik BTSınıfı Bahçe     Bağlantı BilimselEtkinlikler  \\\n",
       "0        NaN            0        0     0          NaN                 NaN   \n",
       "1        NaN            8        0     1          NaN                 NaN   \n",
       "2        NaN            0        0     1          NaN                 NaN   \n",
       "3        NaN            0        1     1          NaN                 NaN   \n",
       "4        NaN            0        0     0  ADSL(1Mbit)                 NaN   \n",
       "\n",
       "  DersBaşlamaveBitiş Derslik FenLabaratuarı FenLaboratuarı  \\\n",
       "0                NaN      16              1            NaN   \n",
       "1                NaN      47              1            NaN   \n",
       "2                NaN      16              0            NaN   \n",
       "3                NaN      16              1            NaN   \n",
       "4        07:10-18:00      20            NaN              0   \n",
       "\n",
       "                         ...                         Yemekhane  \\\n",
       "0                        ...                                 0   \n",
       "1                        ...                                 0   \n",
       "2                        ...                                 1   \n",
       "3                        ...                                 1   \n",
       "4                        ...                                 0   \n",
       "\n",
       "  YurtdışıProjeFaaliyetleri  \\\n",
       "0                       NaN   \n",
       "1                       NaN   \n",
       "2                       NaN   \n",
       "3                       NaN   \n",
       "4                       NaN   \n",
       "\n",
       "                                               adres  \\\n",
       "0                                                NaN   \n",
       "1  Telsiz Mah. Balıklı Kazlıçeşme Yolu No33 Zeyti...   \n",
       "2  Balmumcu Mah. Gazi Umur Paşa Sk. No 40 Beşikta...   \n",
       "3                                                NaN   \n",
       "4                                                NaN   \n",
       "\n",
       "                                          isim         semt Öğrenci  \\\n",
       "0           -100 yıl ali rıza efendi ortaokulu       KARTAL   320.0   \n",
       "1   -100. yıl mesleki ve teknik anadolu lisesi  ZEYTİNBURNU  1758.0   \n",
       "2             -100 yıl mustafa kemal i̇lkokulu     BEŞİKTAŞ   436.0   \n",
       "3  -23 nisan zehra hanım i̇mam hatip ortaokulu      KADIKÖY   437.0   \n",
       "4               -23 nisan kaptanoğlu i̇lkokulu     ÜMRANİYE  1600.0   \n",
       "\n",
       "                                    ÖğretimŞekli Öğretmen  \\\n",
       "0                                         Normal     26.0   \n",
       "1                                          Tekli     95.0   \n",
       "2  OkulumuzdaTekli(Normal)eğitimuygulanmaktadır.     21.0   \n",
       "3                                          TEKLİ     27.0   \n",
       "4                                    İKİLİEĞİTİM     46.0   \n",
       "\n",
       "  İlveİlçeMerkezineUzaklık                                                url  \n",
       "0                      NaN  http://100yilareortaokulu.meb.k12.tr/meb_iys_d...  \n",
       "1                      NaN  http://100yilmtal.meb.k12.tr/meb_iys_dosyalar/...  \n",
       "2                      NaN  http://100yilmustafakemalilkokulu.meb.k12.tr/m...  \n",
       "3                      NaN  http://23nisan-zehrahanim.meb.k12.tr/meb_iys_d...  \n",
       "4                      3km  http://23nisankaptanoglu.meb.k12.tr/meb_iys_do...  \n",
       "\n",
       "[5 rows x 41 columns]"
      ]
     },
     "execution_count": 323,
     "metadata": {},
     "output_type": "execute_result"
    }
   ],
   "source": [
    "df.head()"
   ]
  },
  {
   "cell_type": "code",
   "execution_count": 324,
   "metadata": {
    "collapsed": true
   },
   "outputs": [],
   "source": [
    "df_short = df[['Derslik','isim','semt','Öğrenci','Öğretmen']]"
   ]
  },
  {
   "cell_type": "code",
   "execution_count": 325,
   "metadata": {
    "collapsed": false
   },
   "outputs": [
    {
     "data": {
      "text/plain": [
       "Derslik     177\n",
       "isim        181\n",
       "semt        271\n",
       "Öğrenci     294\n",
       "Öğretmen    300\n",
       "dtype: int64"
      ]
     },
     "execution_count": 325,
     "metadata": {},
     "output_type": "execute_result"
    }
   ],
   "source": [
    "df_short.isnull().sum()"
   ]
  },
  {
   "cell_type": "code",
   "execution_count": 326,
   "metadata": {
    "collapsed": false
   },
   "outputs": [
    {
     "name": "stderr",
     "output_type": "stream",
     "text": [
      "/usr/lib/python3/dist-packages/ipykernel/__main__.py:1: SettingWithCopyWarning: \n",
      "A value is trying to be set on a copy of a slice from a DataFrame\n",
      "\n",
      "See the caveats in the documentation: http://pandas.pydata.org/pandas-docs/stable/indexing.html#indexing-view-versus-copy\n",
      "  if __name__ == '__main__':\n"
     ]
    }
   ],
   "source": [
    "df_short.dropna(inplace=True)"
   ]
  },
  {
   "cell_type": "code",
   "execution_count": 327,
   "metadata": {
    "collapsed": false
   },
   "outputs": [
    {
     "data": {
      "text/plain": [
       "(2060, 5)"
      ]
     },
     "execution_count": 327,
     "metadata": {},
     "output_type": "execute_result"
    }
   ],
   "source": [
    "df_short.shape"
   ]
  },
  {
   "cell_type": "code",
   "execution_count": 328,
   "metadata": {
    "collapsed": false
   },
   "outputs": [],
   "source": [
    "df_short = df_short.apply(lambda x:x.lower() if type(x)==str else x)"
   ]
  },
  {
   "cell_type": "code",
   "execution_count": 329,
   "metadata": {
    "collapsed": false
   },
   "outputs": [
    {
     "data": {
      "text/plain": [
       "0                 duz\n",
       "1       meslek lisesi\n",
       "2                 duz\n",
       "3           imamhatip\n",
       "4                 duz\n",
       "5                 duz\n",
       "6                 duz\n",
       "7                 duz\n",
       "8                 duz\n",
       "9                 duz\n",
       "10                duz\n",
       "11                duz\n",
       "12                duz\n",
       "13                duz\n",
       "14          imamhatip\n",
       "15                duz\n",
       "16                duz\n",
       "17                duz\n",
       "18      meslek lisesi\n",
       "19                duz\n",
       "22                duz\n",
       "23                duz\n",
       "24      meslek lisesi\n",
       "25                duz\n",
       "26                duz\n",
       "30                duz\n",
       "31                duz\n",
       "32                duz\n",
       "33                duz\n",
       "34                duz\n",
       "            ...      \n",
       "2327              duz\n",
       "2328              duz\n",
       "2329        imamhatip\n",
       "2330              duz\n",
       "2331              duz\n",
       "2332              duz\n",
       "2333              duz\n",
       "2334    meslek lisesi\n",
       "2335              duz\n",
       "2336              duz\n",
       "2337              duz\n",
       "2338              duz\n",
       "2339              duz\n",
       "2340        imamhatip\n",
       "2341    meslek lisesi\n",
       "2342    meslek lisesi\n",
       "2343              duz\n",
       "2344    meslek lisesi\n",
       "2345              duz\n",
       "2349    meslek lisesi\n",
       "2350              duz\n",
       "2351              duz\n",
       "2352    meslek lisesi\n",
       "2353        imamhatip\n",
       "2354              duz\n",
       "2355              duz\n",
       "2356              duz\n",
       "2357              duz\n",
       "2358              duz\n",
       "2359              duz\n",
       "Name: type, Length: 2060, dtype: object"
      ]
     },
     "execution_count": 329,
     "metadata": {},
     "output_type": "execute_result"
    }
   ],
   "source": [
    "def otip(s):\n",
    "    if \"meslek\" in s:\n",
    "        return \"meslek lisesi\"\n",
    "    elif any(x in s for x in [\"hatip\",\"hati̇p\"]):\n",
    "        return \"imamhatip\"\n",
    "    else:\n",
    "        return \"duz\"\n",
    "\n",
    "df_short['type'] = df_short['isim'].apply(otip)\n",
    "df_short['type']"
   ]
  },
  {
   "cell_type": "code",
   "execution_count": 330,
   "metadata": {
    "collapsed": false
   },
   "outputs": [
    {
     "data": {
      "text/plain": [
       "0             ortaokul\n",
       "1                 lise\n",
       "2              ilkokul\n",
       "3             ortaokul\n",
       "4              ilkokul\n",
       "5              ilkokul\n",
       "6              ilkokul\n",
       "7              ilkokul\n",
       "8              ilkokul\n",
       "9              ilkokul\n",
       "10             ilkokul\n",
       "11            ortaokul\n",
       "12             ilkokul\n",
       "13            ortaokul\n",
       "14            ortaokul\n",
       "15             ilkokul\n",
       "16            ortaokul\n",
       "17             ilkokul\n",
       "18                lise\n",
       "19             ilkokul\n",
       "22            ortaokul\n",
       "23             ilkokul\n",
       "24      egitim merkezi\n",
       "25            ortaokul\n",
       "26             ilkokul\n",
       "30            ortaokul\n",
       "31            ortaokul\n",
       "32            anaokulu\n",
       "33            ortaokul\n",
       "34      egitim merkezi\n",
       "             ...      \n",
       "2327          ortaokul\n",
       "2328           ilkokul\n",
       "2329          ortaokul\n",
       "2330           ilkokul\n",
       "2331           ilkokul\n",
       "2332           ilkokul\n",
       "2333           ilkokul\n",
       "2334              lise\n",
       "2335    egitim merkezi\n",
       "2336          ortaokul\n",
       "2337           ilkokul\n",
       "2338           ilkokul\n",
       "2339    egitim merkezi\n",
       "2340              lise\n",
       "2341              lise\n",
       "2342              lise\n",
       "2343              None\n",
       "2344    egitim merkezi\n",
       "2345           ilkokul\n",
       "2349              lise\n",
       "2350           ilkokul\n",
       "2351          ortaokul\n",
       "2352              lise\n",
       "2353          ortaokul\n",
       "2354           ilkokul\n",
       "2355          ortaokul\n",
       "2356              lise\n",
       "2357           ilkokul\n",
       "2358           ilkokul\n",
       "2359           ilkokul\n",
       "Name: edu_level, Length: 2060, dtype: object"
      ]
     },
     "execution_count": 330,
     "metadata": {},
     "output_type": "execute_result"
    }
   ],
   "source": [
    "def oduz(s):\n",
    "    if any(x in s for x in [\"ilkokul\",\"i̇lkokul\"]):\n",
    "        return \"ilkokul\"\n",
    "    elif \"ortaokul\" in s:\n",
    "        return \"ortaokul\"\n",
    "    elif any(x in s for x in [\"lise\",\"li̇se\"]):\n",
    "        return \"lise\"\n",
    "    elif \"anaokul\" in s:\n",
    "        return \"anaokulu\"\n",
    "    elif \"merkez\" in s:\n",
    "        return \"egitim merkezi\"\n",
    "\n",
    "df_short['edu_level'] = df_short['isim'].apply(oduz)\n",
    "df_short['edu_level'] "
   ]
  },
  {
   "cell_type": "code",
   "execution_count": 331,
   "metadata": {
    "collapsed": false
   },
   "outputs": [
    {
     "data": {
      "text/html": [
       "<div>\n",
       "<style>\n",
       "    .dataframe thead tr:only-child th {\n",
       "        text-align: right;\n",
       "    }\n",
       "\n",
       "    .dataframe thead th {\n",
       "        text-align: left;\n",
       "    }\n",
       "\n",
       "    .dataframe tbody tr th {\n",
       "        vertical-align: top;\n",
       "    }\n",
       "</style>\n",
       "<table border=\"1\" class=\"dataframe\">\n",
       "  <thead>\n",
       "    <tr style=\"text-align: right;\">\n",
       "      <th></th>\n",
       "      <th>Derslik</th>\n",
       "      <th>isim</th>\n",
       "      <th>semt</th>\n",
       "      <th>Öğrenci</th>\n",
       "      <th>Öğretmen</th>\n",
       "      <th>type</th>\n",
       "      <th>edu_level</th>\n",
       "    </tr>\n",
       "  </thead>\n",
       "  <tbody>\n",
       "    <tr>\n",
       "      <th>48</th>\n",
       "      <td>0</td>\n",
       "      <td>-adile sultan kasrı öğretmenevi ve akşam sanat...</td>\n",
       "      <td>ÜSKÜDAR</td>\n",
       "      <td>0.0</td>\n",
       "      <td>0.0</td>\n",
       "      <td>duz</td>\n",
       "      <td>None</td>\n",
       "    </tr>\n",
       "    <tr>\n",
       "      <th>232</th>\n",
       "      <td>0</td>\n",
       "      <td>-asım ve nurhan kocabıyık öğretmenevi ve akşam...</td>\n",
       "      <td>AVCILAR</td>\n",
       "      <td>0.0</td>\n",
       "      <td>0.0</td>\n",
       "      <td>duz</td>\n",
       "      <td>None</td>\n",
       "    </tr>\n",
       "    <tr>\n",
       "      <th>430</th>\n",
       "      <td>0</td>\n",
       "      <td>-öğretmenevi ve akşam sanat okulu</td>\n",
       "      <td>BEYOĞLU</td>\n",
       "      <td>0.0</td>\n",
       "      <td>0.0</td>\n",
       "      <td>duz</td>\n",
       "      <td>None</td>\n",
       "    </tr>\n",
       "    <tr>\n",
       "      <th>431</th>\n",
       "      <td>0</td>\n",
       "      <td>-i̇stanbul refia övüç olgunlaşma enstitüsü</td>\n",
       "      <td>BEYOĞLU</td>\n",
       "      <td>0.0</td>\n",
       "      <td>0.0</td>\n",
       "      <td>duz</td>\n",
       "      <td>None</td>\n",
       "    </tr>\n",
       "    <tr>\n",
       "      <th>507</th>\n",
       "      <td>0</td>\n",
       "      <td>-cankurtaran öğretmen evi̇ ve akşam sanat ok</td>\n",
       "      <td>FATİH</td>\n",
       "      <td>0.0</td>\n",
       "      <td>0.0</td>\n",
       "      <td>duz</td>\n",
       "      <td>None</td>\n",
       "    </tr>\n",
       "    <tr>\n",
       "      <th>1409</th>\n",
       "      <td>20</td>\n",
       "      <td>-mimar sinan i̇şitme engelliler ortakulu</td>\n",
       "      <td>FATİH</td>\n",
       "      <td>240.0</td>\n",
       "      <td>30.0</td>\n",
       "      <td>duz</td>\n",
       "      <td>None</td>\n",
       "    </tr>\n",
       "    <tr>\n",
       "      <th>1416</th>\n",
       "      <td>16</td>\n",
       "      <td>-mustafa nevzat pısak mesleki eğitim merk.</td>\n",
       "      <td>BAHÇELİEVLER</td>\n",
       "      <td>1210.0</td>\n",
       "      <td>33.0</td>\n",
       "      <td>meslek lisesi</td>\n",
       "      <td>None</td>\n",
       "    </tr>\n",
       "    <tr>\n",
       "      <th>1600</th>\n",
       "      <td>0</td>\n",
       "      <td>-i̇stanbul pendi̇k hi̇zmeti̇çi̇ eği̇ti̇m ensti...</td>\n",
       "      <td>PENDİK</td>\n",
       "      <td>0.0</td>\n",
       "      <td>0.0</td>\n",
       "      <td>duz</td>\n",
       "      <td>None</td>\n",
       "    </tr>\n",
       "    <tr>\n",
       "      <th>1685</th>\n",
       "      <td>21</td>\n",
       "      <td>-i̇stanbul beylerbeyi sabancı  olgunlaşma enst...</td>\n",
       "      <td>ÜSKÜDAR</td>\n",
       "      <td>538.0</td>\n",
       "      <td>41.0</td>\n",
       "      <td>duz</td>\n",
       "      <td>None</td>\n",
       "    </tr>\n",
       "    <tr>\n",
       "      <th>2343</th>\n",
       "      <td>0</td>\n",
       "      <td>-zeytinburnu öğretmenevi ve akşam sanat okulu</td>\n",
       "      <td>ZEYTİNBURNU</td>\n",
       "      <td>0.0</td>\n",
       "      <td>0.0</td>\n",
       "      <td>duz</td>\n",
       "      <td>None</td>\n",
       "    </tr>\n",
       "  </tbody>\n",
       "</table>\n",
       "</div>"
      ],
      "text/plain": [
       "     Derslik                                               isim          semt  \\\n",
       "48         0  -adile sultan kasrı öğretmenevi ve akşam sanat...       ÜSKÜDAR   \n",
       "232        0  -asım ve nurhan kocabıyık öğretmenevi ve akşam...       AVCILAR   \n",
       "430        0                  -öğretmenevi ve akşam sanat okulu       BEYOĞLU   \n",
       "431        0         -i̇stanbul refia övüç olgunlaşma enstitüsü       BEYOĞLU   \n",
       "507        0       -cankurtaran öğretmen evi̇ ve akşam sanat ok         FATİH   \n",
       "1409      20           -mimar sinan i̇şitme engelliler ortakulu         FATİH   \n",
       "1416      16         -mustafa nevzat pısak mesleki eğitim merk.  BAHÇELİEVLER   \n",
       "1600       0  -i̇stanbul pendi̇k hi̇zmeti̇çi̇ eği̇ti̇m ensti...        PENDİK   \n",
       "1685      21  -i̇stanbul beylerbeyi sabancı  olgunlaşma enst...       ÜSKÜDAR   \n",
       "2343       0      -zeytinburnu öğretmenevi ve akşam sanat okulu   ZEYTİNBURNU   \n",
       "\n",
       "      Öğrenci  Öğretmen           type edu_level  \n",
       "48        0.0       0.0            duz      None  \n",
       "232       0.0       0.0            duz      None  \n",
       "430       0.0       0.0            duz      None  \n",
       "431       0.0       0.0            duz      None  \n",
       "507       0.0       0.0            duz      None  \n",
       "1409    240.0      30.0            duz      None  \n",
       "1416   1210.0      33.0  meslek lisesi      None  \n",
       "1600      0.0       0.0            duz      None  \n",
       "1685    538.0      41.0            duz      None  \n",
       "2343      0.0       0.0            duz      None  "
      ]
     },
     "execution_count": 331,
     "metadata": {},
     "output_type": "execute_result"
    }
   ],
   "source": [
    "df_short[df_short['edu_level'].isnull()]"
   ]
  },
  {
   "cell_type": "code",
   "execution_count": 332,
   "metadata": {
    "collapsed": false
   },
   "outputs": [
    {
     "data": {
      "image/png": "[encoded data removed]",
      "text/plain": [
       "<matplotlib.figure.Figure at 0x7efbd54a37b8>"
      ]
     },
     "metadata": {},
     "output_type": "display_data"
    }
   ],
   "source": [
    "sns.countplot(x=\"type\", data=df_short[df_short['edu_level'] != 'ilkokul'])\n",
    "plt.show()"
   ]
  },
  {
   "cell_type": "code",
   "execution_count": 333,
   "metadata": {
    "collapsed": false
   },
   "outputs": [
    {
     "data": {
      "image/png": "[encoded data removed]",
      "text/plain": [
       "<matplotlib.figure.Figure at 0x7efbd4945e80>"
      ]
     },
     "metadata": {},
     "output_type": "display_data"
    }
   ],
   "source": [
    "sns.boxplot(x='type', y='Öğretmen', data=df_short)\n",
    "plt.show()"
   ]
  },
  {
   "cell_type": "code",
   "execution_count": 334,
   "metadata": {
    "collapsed": false
   },
   "outputs": [
    {
     "data": {
      "image/png": "[encoded data removed]",
      "text/plain": [
       "<matplotlib.figure.Figure at 0x7efbd46a2da0>"
      ]
     },
     "metadata": {},
     "output_type": "display_data"
    }
   ],
   "source": [
    "sns.boxplot(x='type', y='Öğrenci', data=df_short)\n",
    "plt.show()"
   ]
  },
  {
   "cell_type": "code",
   "execution_count": 335,
   "metadata": {
    "collapsed": false
   },
   "outputs": [
    {
     "data": {
      "image/png": "[encoded data removed]",
      "text/plain": [
       "<matplotlib.figure.Figure at 0x7efbd43916a0>"
      ]
     },
     "metadata": {},
     "output_type": "display_data"
    }
   ],
   "source": [
    "sns.boxplot(x='edu_level', y='Öğretmen', data=df_short)\n",
    "plt.show()"
   ]
  },
  {
   "cell_type": "code",
   "execution_count": 336,
   "metadata": {
    "collapsed": false
   },
   "outputs": [
    {
     "data": {
      "text/plain": [
       "<matplotlib.axes._subplots.AxesSubplot at 0x7efbd39d9470>"
      ]
     },
     "execution_count": 336,
     "metadata": {},
     "output_type": "execute_result"
    },
    {
     "data": {
      "image/png": "[encoded data removed]",
      "text/plain": [
       "<matplotlib.figure.Figure at 0x7efbd3dfb7f0>"
      ]
     },
     "metadata": {},
     "output_type": "display_data"
    }
   ],
   "source": [
    "sns.distplot(df_short['Öğretmen'])"
   ]
  },
  {
   "cell_type": "code",
   "execution_count": 337,
   "metadata": {
    "collapsed": false
   },
   "outputs": [
    {
     "data": {
      "text/plain": [
       "<matplotlib.axes._subplots.AxesSubplot at 0x7efbd38fb8d0>"
      ]
     },
     "execution_count": 337,
     "metadata": {},
     "output_type": "execute_result"
    },
    {
     "data": {
      "image/png": "[encoded data removed]",
      "text/plain": [
       "<matplotlib.figure.Figure at 0x7efbd39d6160>"
      ]
     },
     "metadata": {},
     "output_type": "display_data"
    }
   ],
   "source": [
    "sns.distplot(df_short['Öğrenci'])"
   ]
  },
  {
   "cell_type": "code",
   "execution_count": 338,
   "metadata": {
    "collapsed": false
   },
   "outputs": [
    {
     "data": {
      "text/plain": [
       "count      2060.000000\n",
       "mean       1667.207282\n",
       "std       17253.973427\n",
       "min           0.000000\n",
       "25%         395.000000\n",
       "50%         750.000000\n",
       "75%        1169.250000\n",
       "max      530000.000000\n",
       "Name: Öğrenci, dtype: float64"
      ]
     },
     "execution_count": 338,
     "metadata": {},
     "output_type": "execute_result"
    }
   ],
   "source": [
    "df_short['Öğrenci'].describe()"
   ]
  },
  {
   "cell_type": "code",
   "execution_count": 339,
   "metadata": {
    "collapsed": false
   },
   "outputs": [],
   "source": [
    "df_short = df_short[(df_short['Öğrenci'] < 5000) & (df_short['Öğrenci'] > 10)]\n",
    "df_short = df_short[df_short['Öğretmen'] > 0]"
   ]
  },
  {
   "cell_type": "code",
   "execution_count": 340,
   "metadata": {
    "collapsed": false
   },
   "outputs": [
    {
     "name": "stdout",
     "output_type": "stream",
     "text": [
      "854.81721519 588.65346102\n"
     ]
    }
   ],
   "source": [
    "def remove_outliers(df, s):\n",
    "    mean = df[s].mean()\n",
    "    std = df[s].std()\n",
    "    print(mean, std)\n",
    "    return df[df[s] < mean + 2*std]\n",
    "\n",
    "df_short = remove_outliers(df_short, 'Öğrenci')"
   ]
  },
  {
   "cell_type": "code",
   "execution_count": 341,
   "metadata": {
    "collapsed": false
   },
   "outputs": [
    {
     "data": {
      "text/plain": [
       "<matplotlib.axes._subplots.AxesSubplot at 0x7efbd3764940>"
      ]
     },
     "execution_count": 341,
     "metadata": {},
     "output_type": "execute_result"
    },
    {
     "data": {
      "image/png": "[encoded data removed]",
      "text/plain": [
       "<matplotlib.figure.Figure at 0x7efbd37b6b70>"
      ]
     },
     "metadata": {},
     "output_type": "display_data"
    }
   ],
   "source": [
    "sns.distplot(df_short['Öğrenci'])"
   ]
  },
  {
   "cell_type": "code",
   "execution_count": 342,
   "metadata": {
    "collapsed": false
   },
   "outputs": [
    {
     "data": {
      "image/png": "[encoded data removed]",
      "text/plain": [
       "<matplotlib.figure.Figure at 0x7efbd3812dd8>"
      ]
     },
     "metadata": {},
     "output_type": "display_data"
    }
   ],
   "source": [
    "sns.boxplot(x='type', y='Öğrenci', data=df_short)\n",
    "plt.show()"
   ]
  },
  {
   "cell_type": "code",
   "execution_count": 343,
   "metadata": {
    "collapsed": false
   },
   "outputs": [
    {
     "data": {
      "image/png": "[encoded data removed]",
      "text/plain": [
       "<matplotlib.figure.Figure at 0x7efbd381b828>"
      ]
     },
     "metadata": {},
     "output_type": "display_data"
    }
   ],
   "source": [
    "sns.boxplot(x='type', y='Öğrenci', data=df_short[df_short['edu_level'] != 'ilkokul'])\n",
    "plt.show()"
   ]
  },
  {
   "cell_type": "code",
   "execution_count": 344,
   "metadata": {
    "collapsed": false
   },
   "outputs": [
    {
     "data": {
      "image/png": "[encoded data removed]",
      "text/plain": [
       "<matplotlib.figure.Figure at 0x7efbd349ef98>"
      ]
     },
     "metadata": {},
     "output_type": "display_data"
    }
   ],
   "source": [
    "sns.boxplot(x='edu_level', y='Öğrenci', data=df_short)\n",
    "plt.show()"
   ]
  },
  {
   "cell_type": "code",
   "execution_count": 345,
   "metadata": {
    "collapsed": false
   },
   "outputs": [
    {
     "data": {
      "text/plain": [
       "count    1903.000000\n",
       "mean       38.500788\n",
       "std        22.345271\n",
       "min         1.000000\n",
       "25%        22.000000\n",
       "50%        36.000000\n",
       "75%        52.000000\n",
       "max       149.000000\n",
       "Name: Öğretmen, dtype: float64"
      ]
     },
     "execution_count": 345,
     "metadata": {},
     "output_type": "execute_result"
    }
   ],
   "source": [
    "df_short['Öğretmen'].describe()"
   ]
  },
  {
   "cell_type": "code",
   "execution_count": 346,
   "metadata": {
    "collapsed": false
   },
   "outputs": [
    {
     "name": "stdout",
     "output_type": "stream",
     "text": [
      "38.5007882291 22.3452706238\n"
     ]
    }
   ],
   "source": [
    "df_short = remove_outliers(df_short, 'Öğretmen')"
   ]
  },
  {
   "cell_type": "code",
   "execution_count": 347,
   "metadata": {
    "collapsed": false
   },
   "outputs": [
    {
     "data": {
      "text/plain": [
       "count    1841.000000\n",
       "mean       36.457903\n",
       "std        19.487579\n",
       "min         1.000000\n",
       "25%        21.000000\n",
       "50%        35.000000\n",
       "75%        50.000000\n",
       "max        83.000000\n",
       "Name: Öğretmen, dtype: float64"
      ]
     },
     "execution_count": 347,
     "metadata": {},
     "output_type": "execute_result"
    }
   ],
   "source": [
    "df_short['Öğretmen'].describe()"
   ]
  },
  {
   "cell_type": "code",
   "execution_count": 348,
   "metadata": {
    "collapsed": false
   },
   "outputs": [
    {
     "data": {
      "text/plain": [
       "<matplotlib.axes._subplots.AxesSubplot at 0x7efbd40d2b70>"
      ]
     },
     "execution_count": 348,
     "metadata": {},
     "output_type": "execute_result"
    },
    {
     "data": {
      "image/png": "[encoded data removed]",
      "text/plain": [
       "<matplotlib.figure.Figure at 0x7efbd3836668>"
      ]
     },
     "metadata": {},
     "output_type": "display_data"
    }
   ],
   "source": [
    "sns.distplot(df_short['Öğretmen'])"
   ]
  },
  {
   "cell_type": "code",
   "execution_count": 349,
   "metadata": {
    "collapsed": false
   },
   "outputs": [
    {
     "data": {
      "image/png": "[encoded data removed]",
      "text/plain": [
       "<matplotlib.figure.Figure at 0x7efbd3741e80>"
      ]
     },
     "metadata": {},
     "output_type": "display_data"
    }
   ],
   "source": [
    "sns.boxplot(x='edu_level', y='Öğretmen', data=df_short)\n",
    "plt.show()"
   ]
  },
  {
   "cell_type": "code",
   "execution_count": 350,
   "metadata": {
    "collapsed": false
   },
   "outputs": [
    {
     "ename": "TypeError",
     "evalue": "ufunc 'true_divide' not supported for the input types, and the inputs could not be safely coerced to any supported types according to the casting rule ''safe''",
     "output_type": "error",
     "traceback": [
      "\u001b[0;31m---------------------------------------------------------------------------\u001b[0m",
      "\u001b[0;31mTypeError\u001b[0m                                 Traceback (most recent call last)",
      "\u001b[0;32m/usr/local/lib/python3.5/dist-packages/pandas/core/ops.py\u001b[0m in \u001b[0;36mna_op\u001b[0;34m(x, y)\u001b[0m\n\u001b[1;32m    657\u001b[0m             result = expressions.evaluate(op, str_rep, x, y,\n\u001b[0;32m--> 658\u001b[0;31m                                           raise_on_error=True, **eval_kwargs)\n\u001b[0m\u001b[1;32m    659\u001b[0m         \u001b[0;32mexcept\u001b[0m \u001b[0mTypeError\u001b[0m\u001b[0;34m:\u001b[0m\u001b[0;34m\u001b[0m\u001b[0m\n",
      "\u001b[0;32m/usr/local/lib/python3.5/dist-packages/pandas/core/computation/expressions.py\u001b[0m in \u001b[0;36mevaluate\u001b[0;34m(op, op_str, a, b, raise_on_error, use_numexpr, **eval_kwargs)\u001b[0m\n\u001b[1;32m    210\u001b[0m         return _evaluate(op, op_str, a, b, raise_on_error=raise_on_error,\n\u001b[0;32m--> 211\u001b[0;31m                          **eval_kwargs)\n\u001b[0m\u001b[1;32m    212\u001b[0m     \u001b[0;32mreturn\u001b[0m \u001b[0m_evaluate_standard\u001b[0m\u001b[0;34m(\u001b[0m\u001b[0mop\u001b[0m\u001b[0;34m,\u001b[0m \u001b[0mop_str\u001b[0m\u001b[0;34m,\u001b[0m \u001b[0ma\u001b[0m\u001b[0;34m,\u001b[0m \u001b[0mb\u001b[0m\u001b[0;34m,\u001b[0m \u001b[0mraise_on_error\u001b[0m\u001b[0;34m=\u001b[0m\u001b[0mraise_on_error\u001b[0m\u001b[0;34m)\u001b[0m\u001b[0;34m\u001b[0m\u001b[0m\n",
      "\u001b[0;32m/usr/local/lib/python3.5/dist-packages/pandas/core/computation/expressions.py\u001b[0m in \u001b[0;36m_evaluate_standard\u001b[0;34m(op, op_str, a, b, raise_on_error, **eval_kwargs)\u001b[0m\n\u001b[1;32m     63\u001b[0m     \u001b[0;32mwith\u001b[0m \u001b[0mnp\u001b[0m\u001b[0;34m.\u001b[0m\u001b[0merrstate\u001b[0m\u001b[0;34m(\u001b[0m\u001b[0mall\u001b[0m\u001b[0;34m=\u001b[0m\u001b[0;34m'ignore'\u001b[0m\u001b[0;34m)\u001b[0m\u001b[0;34m:\u001b[0m\u001b[0;34m\u001b[0m\u001b[0m\n\u001b[0;32m---> 64\u001b[0;31m         \u001b[0;32mreturn\u001b[0m \u001b[0mop\u001b[0m\u001b[0;34m(\u001b[0m\u001b[0ma\u001b[0m\u001b[0;34m,\u001b[0m \u001b[0mb\u001b[0m\u001b[0;34m)\u001b[0m\u001b[0;34m\u001b[0m\u001b[0m\n\u001b[0m\u001b[1;32m     65\u001b[0m \u001b[0;34m\u001b[0m\u001b[0m\n",
      "\u001b[0;31mTypeError\u001b[0m: unsupported operand type(s) for /: 'str' and 'float'",
      "\nDuring handling of the above exception, another exception occurred:\n",
      "\u001b[0;31mTypeError\u001b[0m                                 Traceback (most recent call last)",
      "\u001b[0;32m/usr/local/lib/python3.5/dist-packages/pandas/core/ops.py\u001b[0m in \u001b[0;36msafe_na_op\u001b[0;34m(lvalues, rvalues)\u001b[0m\n\u001b[1;32m    681\u001b[0m             \u001b[0;32mwith\u001b[0m \u001b[0mnp\u001b[0m\u001b[0;34m.\u001b[0m\u001b[0merrstate\u001b[0m\u001b[0;34m(\u001b[0m\u001b[0mall\u001b[0m\u001b[0;34m=\u001b[0m\u001b[0;34m'ignore'\u001b[0m\u001b[0;34m)\u001b[0m\u001b[0;34m:\u001b[0m\u001b[0;34m\u001b[0m\u001b[0m\n\u001b[0;32m--> 682\u001b[0;31m                 \u001b[0;32mreturn\u001b[0m \u001b[0mna_op\u001b[0m\u001b[0;34m(\u001b[0m\u001b[0mlvalues\u001b[0m\u001b[0;34m,\u001b[0m \u001b[0mrvalues\u001b[0m\u001b[0;34m)\u001b[0m\u001b[0;34m\u001b[0m\u001b[0m\n\u001b[0m\u001b[1;32m    683\u001b[0m         \u001b[0;32mexcept\u001b[0m \u001b[0mException\u001b[0m\u001b[0;34m:\u001b[0m\u001b[0;34m\u001b[0m\u001b[0m\n",
      "\u001b[0;32m/usr/local/lib/python3.5/dist-packages/pandas/core/ops.py\u001b[0m in \u001b[0;36mna_op\u001b[0;34m(x, y)\u001b[0m\n\u001b[1;32m    663\u001b[0m                 \u001b[0mmask\u001b[0m \u001b[0;34m=\u001b[0m \u001b[0mnotnull\u001b[0m\u001b[0;34m(\u001b[0m\u001b[0mx\u001b[0m\u001b[0;34m)\u001b[0m \u001b[0;34m&\u001b[0m \u001b[0mnotnull\u001b[0m\u001b[0;34m(\u001b[0m\u001b[0my\u001b[0m\u001b[0;34m)\u001b[0m\u001b[0;34m\u001b[0m\u001b[0m\n\u001b[0;32m--> 664\u001b[0;31m                 \u001b[0mresult\u001b[0m\u001b[0;34m[\u001b[0m\u001b[0mmask\u001b[0m\u001b[0;34m]\u001b[0m \u001b[0;34m=\u001b[0m \u001b[0mop\u001b[0m\u001b[0;34m(\u001b[0m\u001b[0mx\u001b[0m\u001b[0;34m[\u001b[0m\u001b[0mmask\u001b[0m\u001b[0;34m]\u001b[0m\u001b[0;34m,\u001b[0m \u001b[0m_values_from_object\u001b[0m\u001b[0;34m(\u001b[0m\u001b[0my\u001b[0m\u001b[0;34m[\u001b[0m\u001b[0mmask\u001b[0m\u001b[0;34m]\u001b[0m\u001b[0;34m)\u001b[0m\u001b[0;34m)\u001b[0m\u001b[0;34m\u001b[0m\u001b[0m\n\u001b[0m\u001b[1;32m    665\u001b[0m             \u001b[0;32melif\u001b[0m \u001b[0misinstance\u001b[0m\u001b[0;34m(\u001b[0m\u001b[0mx\u001b[0m\u001b[0;34m,\u001b[0m \u001b[0mnp\u001b[0m\u001b[0;34m.\u001b[0m\u001b[0mndarray\u001b[0m\u001b[0;34m)\u001b[0m\u001b[0;34m:\u001b[0m\u001b[0;34m\u001b[0m\u001b[0m\n",
      "\u001b[0;31mTypeError\u001b[0m: unsupported operand type(s) for /: 'str' and 'float'",
      "\nDuring handling of the above exception, another exception occurred:\n",
      "\u001b[0;31mTypeError\u001b[0m                                 Traceback (most recent call last)",
      "\u001b[0;32m<ipython-input-350-0e109fa05ce5>\u001b[0m in \u001b[0;36m<module>\u001b[0;34m()\u001b[0m\n\u001b[1;32m      1\u001b[0m \u001b[0mdf_short\u001b[0m\u001b[0;34m[\u001b[0m\u001b[0;34m'ogmen_density'\u001b[0m\u001b[0;34m]\u001b[0m \u001b[0;34m=\u001b[0m \u001b[0mdf_short\u001b[0m\u001b[0;34m[\u001b[0m\u001b[0;34m'Öğretmen'\u001b[0m\u001b[0;34m]\u001b[0m \u001b[0;34m/\u001b[0m \u001b[0mdf_short\u001b[0m\u001b[0;34m[\u001b[0m\u001b[0;34m'Öğrenci'\u001b[0m\u001b[0;34m]\u001b[0m\u001b[0;34m\u001b[0m\u001b[0m\n\u001b[0;32m----> 2\u001b[0;31m \u001b[0mdf_short\u001b[0m\u001b[0;34m[\u001b[0m\u001b[0;34m'derslik_density'\u001b[0m\u001b[0;34m]\u001b[0m \u001b[0;34m=\u001b[0m \u001b[0mdf_short\u001b[0m\u001b[0;34m[\u001b[0m\u001b[0;34m'Derslik'\u001b[0m\u001b[0;34m]\u001b[0m \u001b[0;34m/\u001b[0m \u001b[0mdf_short\u001b[0m\u001b[0;34m[\u001b[0m\u001b[0;34m'Öğrenci'\u001b[0m\u001b[0;34m]\u001b[0m\u001b[0;34m\u001b[0m\u001b[0m\n\u001b[0m",
      "\u001b[0;32m/usr/local/lib/python3.5/dist-packages/pandas/core/ops.py\u001b[0m in \u001b[0;36mwrapper\u001b[0;34m(left, right, name, na_op)\u001b[0m\n\u001b[1;32m    719\u001b[0m                 \u001b[0mlvalues\u001b[0m \u001b[0;34m=\u001b[0m \u001b[0mlvalues\u001b[0m\u001b[0;34m.\u001b[0m\u001b[0mvalues\u001b[0m\u001b[0;34m\u001b[0m\u001b[0m\n\u001b[1;32m    720\u001b[0m \u001b[0;34m\u001b[0m\u001b[0m\n\u001b[0;32m--> 721\u001b[0;31m         \u001b[0mresult\u001b[0m \u001b[0;34m=\u001b[0m \u001b[0mwrap_results\u001b[0m\u001b[0;34m(\u001b[0m\u001b[0msafe_na_op\u001b[0m\u001b[0;34m(\u001b[0m\u001b[0mlvalues\u001b[0m\u001b[0;34m,\u001b[0m \u001b[0mrvalues\u001b[0m\u001b[0;34m)\u001b[0m\u001b[0;34m)\u001b[0m\u001b[0;34m\u001b[0m\u001b[0m\n\u001b[0m\u001b[1;32m    722\u001b[0m         return construct_result(\n\u001b[1;32m    723\u001b[0m             \u001b[0mleft\u001b[0m\u001b[0;34m,\u001b[0m\u001b[0;34m\u001b[0m\u001b[0m\n",
      "\u001b[0;32m/usr/local/lib/python3.5/dist-packages/pandas/core/ops.py\u001b[0m in \u001b[0;36msafe_na_op\u001b[0;34m(lvalues, rvalues)\u001b[0m\n\u001b[1;32m    690\u001b[0m                 \u001b[0;32mif\u001b[0m \u001b[0mis_object_dtype\u001b[0m\u001b[0;34m(\u001b[0m\u001b[0mlvalues\u001b[0m\u001b[0;34m)\u001b[0m\u001b[0;34m:\u001b[0m\u001b[0;34m\u001b[0m\u001b[0m\n\u001b[1;32m    691\u001b[0m                     return libalgos.arrmap_object(lvalues,\n\u001b[0;32m--> 692\u001b[0;31m                                                   lambda x: op(x, rvalues))\n\u001b[0m\u001b[1;32m    693\u001b[0m             \u001b[0;32mraise\u001b[0m\u001b[0;34m\u001b[0m\u001b[0m\n\u001b[1;32m    694\u001b[0m \u001b[0;34m\u001b[0m\u001b[0m\n",
      "\u001b[0;32mpandas/_libs/algos_common_helper.pxi\u001b[0m in \u001b[0;36mpandas._libs.algos.arrmap_object (pandas/_libs/algos.c:31954)\u001b[0;34m()\u001b[0m\n",
      "\u001b[0;32m/usr/local/lib/python3.5/dist-packages/pandas/core/ops.py\u001b[0m in \u001b[0;36m<lambda>\u001b[0;34m(x)\u001b[0m\n\u001b[1;32m    690\u001b[0m                 \u001b[0;32mif\u001b[0m \u001b[0mis_object_dtype\u001b[0m\u001b[0;34m(\u001b[0m\u001b[0mlvalues\u001b[0m\u001b[0;34m)\u001b[0m\u001b[0;34m:\u001b[0m\u001b[0;34m\u001b[0m\u001b[0m\n\u001b[1;32m    691\u001b[0m                     return libalgos.arrmap_object(lvalues,\n\u001b[0;32m--> 692\u001b[0;31m                                                   lambda x: op(x, rvalues))\n\u001b[0m\u001b[1;32m    693\u001b[0m             \u001b[0;32mraise\u001b[0m\u001b[0;34m\u001b[0m\u001b[0m\n\u001b[1;32m    694\u001b[0m \u001b[0;34m\u001b[0m\u001b[0m\n",
      "\u001b[0;31mTypeError\u001b[0m: ufunc 'true_divide' not supported for the input types, and the inputs could not be safely coerced to any supported types according to the casting rule ''safe''"
     ]
    }
   ],
   "source": [
    "df_short['ogmen_density'] = df_short['Öğretmen'] / df_short['Öğrenci']"
   ]
  },
  {
   "cell_type": "code",
   "execution_count": 351,
   "metadata": {
    "collapsed": false
   },
   "outputs": [
    {
     "data": {
      "image/png": "[encoded data removed]",
      "text/plain": [
       "<matplotlib.figure.Figure at 0x7efbd4ff1ac8>"
      ]
     },
     "metadata": {},
     "output_type": "display_data"
    }
   ],
   "source": [
    "sns.boxplot(x='type', y='ogmen_density', data=df_short[df_short['edu_level'] != 'ilkokul'])\n",
    "plt.show()"
   ]
  },
  {
   "cell_type": "code",
   "execution_count": 352,
   "metadata": {
    "collapsed": false
   },
   "outputs": [
    {
     "name": "stdout",
     "output_type": "stream",
     "text": [
      "0.0594471403279 0.0502859102959\n"
     ]
    }
   ],
   "source": [
    "df_short = remove_outliers(df_short, 'ogmen_density')"
   ]
  },
  {
   "cell_type": "code",
   "execution_count": 353,
   "metadata": {
    "collapsed": false
   },
   "outputs": [
    {
     "data": {
      "image/png": "[encoded data removed]",
      "text/plain": [
       "<matplotlib.figure.Figure at 0x7efbd42e5fd0>"
      ]
     },
     "metadata": {},
     "output_type": "display_data"
    }
   ],
   "source": [
    "sns.boxplot(x='type', y='ogmen_density', data=df_short[df_short['edu_level'] != 'ilkokul'])\n",
    "plt.show()"
   ]
  },
  {
   "cell_type": "code",
   "execution_count": null,
   "metadata": {
    "collapsed": true
   },
   "outputs": [],
   "source": [
    "df_short['derslik_density'] = df_short['Derslik'] / df_short['Öğrenci']"
   ]
  },
  {
   "cell_type": "code",
   "execution_count": null,
   "metadata": {
    "collapsed": true
   },
   "outputs": [],
   "source": []
  }
 ],
 "metadata": {
  "kernelspec": {
   "display_name": "Python 3",
   "language": "python",
   "name": "python3"
  },
  "language_info": {
   "codemirror_mode": {
    "name": "ipython",
    "version": 3
   },
   "file_extension": ".py",
   "mimetype": "text/x-python",
   "name": "python",
   "nbconvert_exporter": "python",
   "pygments_lexer": "ipython3",
   "version": "3.5.3"
  }
 },
 "nbformat": 4,
 "nbformat_minor": 2
}
